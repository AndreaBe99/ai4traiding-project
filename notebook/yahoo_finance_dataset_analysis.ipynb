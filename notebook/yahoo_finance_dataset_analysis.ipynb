{
 "cells": [
  {
   "attachments": {},
   "cell_type": "markdown",
   "metadata": {},
   "source": [
    "# Yahoo Finance Dataset Analysis"
   ]
  },
  {
   "cell_type": "code",
   "execution_count": null,
   "metadata": {},
   "outputs": [],
   "source": [
    "# !pip install dtw-python\n",
    "# !pip install yfinance\n",
    "# !pip install pandas_datareader\n",
    "# !pip install yahoo-fin"
   ]
  },
  {
   "cell_type": "code",
   "execution_count": null,
   "metadata": {},
   "outputs": [],
   "source": [
    "# Here we have useful import\n",
    "from sklearn.preprocessing import StandardScaler\n",
    "from dtw import *\n",
    "import pandas as pd\n",
    "import numpy as np\n",
    "import datetime as dt\n",
    "import matplotlib as mpl\n",
    "from matplotlib import pyplot as plt\n",
    "mpl.style.use('seaborn')\n",
    "# plt.rc(\"figure\", figsize=(10,10))  # size of the figure\n",
    "# to quickly get access to a list of the tickers in different indices\n",
    "import yfinance as yf\n",
    "from yahoo_fin import stock_info as si\n",
    "import warnings\n",
    "from pandas_datareader import data as pdr\n",
    "# Settings\n",
    "pd.set_option('display.max_rows', None)\n",
    "warnings.filterwarnings(\"ignore\")\n",
    "yf.pdr_override()"
   ]
  },
  {
   "attachments": {},
   "cell_type": "markdown",
   "metadata": {},
   "source": [
    "## Set constant variable"
   ]
  },
  {
   "cell_type": "code",
   "execution_count": null,
   "metadata": {},
   "outputs": [],
   "source": [
    "DIR_DATA = \"../dataset/yahoo_finance_dataset/AAPL.csv\"\n",
    "NORMALIZE = True\n",
    "\n",
    "# Set up the start/end dates for the prices\n",
    "num_of_years = 10\n",
    "start = dt.date.today() - dt.timedelta(days = int(365.25*num_of_years))\n",
    "end = dt.date.today()\n",
    "\n",
    "# Get the list of tickers in the Dow Jones index (others: tickers_dow, \n",
    "# tickers_ftse100, tickers_ftse250, tickers_ibovespa, tickers_nasdaq, \n",
    "# tickers_nifty50, tickers_niftybank, tickers_other, tickers_sp500)\n",
    "tickers = si.tickers_dow()"
   ]
  },
  {
   "attachments": {},
   "cell_type": "markdown",
   "metadata": {},
   "source": [
    "## Dataset"
   ]
  },
  {
   "attachments": {},
   "cell_type": "markdown",
   "metadata": {},
   "source": [
    "We decide to download the yahoo finance dataset of Apple, more precisily the one that contains daily update in order to analyze the differences of each day."
   ]
  },
  {
   "cell_type": "code",
   "execution_count": null,
   "metadata": {},
   "outputs": [],
   "source": [
    "df = pd.read_csv(DIR_DATA)\n",
    "df"
   ]
  },
  {
   "attachments": {},
   "cell_type": "markdown",
   "metadata": {},
   "source": [
    "In the dataset there are no missing values, since we check it using the function isna().sum(), so we don't need to do some preprocessing operations."
   ]
  },
  {
   "attachments": {},
   "cell_type": "markdown",
   "metadata": {},
   "source": [
    "## Volatility"
   ]
  },
  {
   "attachments": {},
   "cell_type": "markdown",
   "metadata": {},
   "source": [
    "Sources:\n",
    "- [Calculate the Volatility of Historic Stock Prices with Pandas and Python](https://www.learnpythonwithrune.org/calculate-the-volatility-of-historic-stock-prices-with-pandas-and-python/)\n",
    "- [Volatility](https://corporatefinanceinstitute.com/resources/capital-markets/volatility-vol/)"
   ]
  },
  {
   "attachments": {},
   "cell_type": "markdown",
   "metadata": {},
   "source": [
    "Volatility is a measure of the rate of fluctuations in the price of a security over time. It indicates the level of risk associated with the price changes of a security. Investors and traders calculate the volatility of a security to assess past variations in the prices to predict their future movements."
   ]
  },
  {
   "attachments": {},
   "cell_type": "markdown",
   "metadata": {},
   "source": [
    "We create a new column called 'Log returns' with the daily log return of the Close price.\n",
    "We use log returns instead of daily simple return, since the log returns have the advantage that you can add them together, while this is not the case for simple returns. Therefore the log returns are used in most financial analysis."
   ]
  },
  {
   "cell_type": "code",
   "execution_count": null,
   "metadata": {},
   "outputs": [],
   "source": [
    "# Compute the daily log return\n",
    "df['Log_returns'] = np.log(df['Close']/df['Close'].shift())"
   ]
  },
  {
   "attachments": {},
   "cell_type": "markdown",
   "metadata": {},
   "source": [
    "We need **standard deviation** for the volatility of the stock. In order to do this we use the daily return computed before."
   ]
  },
  {
   "cell_type": "code",
   "execution_count": null,
   "metadata": {},
   "outputs": [],
   "source": [
    "df['Log_returns'].std()"
   ]
  },
  {
   "attachments": {},
   "cell_type": "markdown",
   "metadata": {},
   "source": [
    "There is a NaN value in the column so we're going to handle it."
   ]
  },
  {
   "cell_type": "code",
   "execution_count": null,
   "metadata": {},
   "outputs": [],
   "source": [
    "df['Log_returns'] = df['Log_returns'].fillna(method=\"bfill\")\n",
    "df['Log_returns']"
   ]
  },
  {
   "attachments": {},
   "cell_type": "markdown",
   "metadata": {},
   "source": [
    "The above gives the daily **standard deviation**. The volatility is defined as the annualized standard deviation. Using the above formula we can calculate it as follows."
   ]
  },
  {
   "cell_type": "code",
   "execution_count": null,
   "metadata": {},
   "outputs": [],
   "source": [
    "volatility = df['Log_returns'].std()*252**.5 # we have 252 trading days per year"
   ]
  },
  {
   "cell_type": "code",
   "execution_count": null,
   "metadata": {},
   "outputs": [],
   "source": [
    "# Plot volatility\n",
    "str_vol = str(round(volatility, 4)*100)\n",
    "\n",
    "fig, ax = plt.subplots()\n",
    "df['Log_returns'].hist(ax=ax, bins=50, alpha=0.6, color='b')\n",
    "ax.set_xlabel(\"Log return\")\n",
    "ax.set_ylabel(\"Freq of log return\")\n",
    "ax.set_title(\"AAPL volatility: \" + str_vol + \"%\")"
   ]
  },
  {
   "attachments": {},
   "cell_type": "markdown",
   "metadata": {},
   "source": [
    "## DTW"
   ]
  },
  {
   "cell_type": "code",
   "execution_count": null,
   "metadata": {},
   "outputs": [],
   "source": [
    "def compute_dtw(data, col1=\"volume\", col2=\"log_returns\"):\n",
    "    x = data[col1]\n",
    "    y = data[col2]\n",
    "\n",
    "    if NORMALIZE:\n",
    "        scaler = StandardScaler()\n",
    "        reshape = x.values.reshape(-1, 1)\n",
    "        x = scaler.fit_transform(reshape)\n",
    "        reshape = y.values.reshape(-1, 1)\n",
    "        y = scaler.fit_transform(reshape)\n",
    "    \n",
    "    # DTW Parameters: see https://dynamictimewarping.github.io/py-api/html/api/dtw.dtw.html#dtw.dtw\n",
    "    \n",
    "    plt.rc(\"figure\", figsize=(10,10))  # size of the figure\n",
    "    dtw(x, y, keep_internals=True).plot(type=\"threeway\", xlab=col1, ylab=col2)\n",
    "\n",
    "    plt.rc(\"figure\", figsize=(30,8))  # size of the figure\n",
    "    dtw(x, y, keep_internals=True, \n",
    "        step_pattern=rabinerJuangStepPattern(ptype=4, slope_weighting=\"d\"))\\\n",
    "        .plot(type=\"twoway\", offset=-9).legend((col1, col2), loc=\"upper left\")"
   ]
  },
  {
   "attachments": {},
   "cell_type": "markdown",
   "metadata": {},
   "source": [
    "### Analysis"
   ]
  },
  {
   "cell_type": "code",
   "execution_count": null,
   "metadata": {},
   "outputs": [],
   "source": [
    "compute_dtw(df, \"Log_returns\", \"Volume\")"
   ]
  }
 ],
 "metadata": {
  "kernelspec": {
   "display_name": "base",
   "language": "python",
   "name": "python3"
  },
  "language_info": {
   "codemirror_mode": {
    "name": "ipython",
    "version": 3
   },
   "file_extension": ".py",
   "mimetype": "text/x-python",
   "name": "python",
   "nbconvert_exporter": "python",
   "pygments_lexer": "ipython3",
   "version": "3.9.7"
  },
  "orig_nbformat": 4
 },
 "nbformat": 4,
 "nbformat_minor": 2
}
