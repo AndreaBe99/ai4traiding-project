{
 "cells": [
  {
   "attachments": {},
   "cell_type": "markdown",
   "metadata": {},
   "source": [
    "# Test python-dtw package"
   ]
  },
  {
   "attachments": {},
   "cell_type": "markdown",
   "metadata": {},
   "source": [
    "The goal of this notebook is to test the `python-dtw` package to compute the correlation between stocks. To do this we use the two stocks obtained from `stocks_correlation.ipynb`, in this way we are sure that they have an high correlation, and as a prove we compute the correlation matrix between them with `python-dtw`."
   ]
  },
  {
   "cell_type": "code",
   "execution_count": null,
   "metadata": {},
   "outputs": [],
   "source": [
    "import numpy as np\n",
    "import pandas as pd\n",
    "\n",
    "import warnings\n",
    "from pandas_datareader import data as pdr\n",
    "\n",
    "# to override deprecations in pandas-datareader\n",
    "import yfinance as yf\n",
    "\n",
    "# To set up the start/end dates for the prices\n",
    "import datetime as dt\n",
    "\n",
    "# to quickly get access to a list of the tickers in different indices\n",
    "from yahoo_fin import stock_info as si\n",
    "\n",
    "# Settings\n",
    "pd.set_option('display.max_rows', None)\n",
    "warnings.filterwarnings(\"ignore\")\n",
    "yf.pdr_override()"
   ]
  }
 ],
 "metadata": {
  "language_info": {
   "name": "python"
  },
  "orig_nbformat": 4
 },
 "nbformat": 4,
 "nbformat_minor": 2
}
