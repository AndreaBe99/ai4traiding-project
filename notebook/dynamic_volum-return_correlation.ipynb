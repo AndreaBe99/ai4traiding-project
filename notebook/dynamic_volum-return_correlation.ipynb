{
 "cells": [
  {
   "attachments": {},
   "cell_type": "markdown",
   "metadata": {},
   "source": [
    "# Dynamic Volume-Return Relation of Individual Stocks"
   ]
  },
  {
   "attachments": {},
   "cell_type": "markdown",
   "metadata": {},
   "source": [
    "In the [article](https://www.jstor.org/stable/1262690) they downloaded the datasets of NYSE and AMEX from CRSP, but since we wasn't able to do it, since it requires some permits, we decided to download them from the Yahoo Finance site.\n",
    "\n",
    "More specifically we download the **AXP** and **NYA** datasets with a time range of **5 years**."
   ]
  },
  {
   "cell_type": "code",
   "execution_count": 110,
   "metadata": {},
   "outputs": [],
   "source": [
    "# Useful install in order to use OLS method\n",
    "# !pip install statsmodels"
   ]
  },
  {
   "cell_type": "code",
   "execution_count": 111,
   "metadata": {},
   "outputs": [],
   "source": [
    "# Here we have useful import\n",
    "from sklearn.preprocessing import StandardScaler\n",
    "\n",
    "import pandas as pd\n",
    "import numpy as np\n",
    "\n",
    "import datetime as dt\n",
    "\n",
    "# Using plotly.express\n",
    "import plotly.express as px\n",
    "import plotly.graph_objects as go\n",
    "\n",
    "import matplotlib as mpl\n",
    "from matplotlib import pyplot as plt\n",
    "mpl.style.use('seaborn')\n",
    "\n",
    "# OLS method\n",
    "import statsmodels.api as sm"
   ]
  },
  {
   "attachments": {},
   "cell_type": "markdown",
   "metadata": {},
   "source": [
    "## Set constant variable"
   ]
  },
  {
   "cell_type": "code",
   "execution_count": 112,
   "metadata": {},
   "outputs": [],
   "source": [
    "DIR_DATA = \"../dataset/paper_dataset/\"\n",
    "\n",
    "# Tickers for CSV files\n",
    "TICKERS = [\"AXP\", \"NYA\"]"
   ]
  },
  {
   "attachments": {},
   "cell_type": "markdown",
   "metadata": {},
   "source": [
    "## Functions"
   ]
  },
  {
   "cell_type": "code",
   "execution_count": 113,
   "metadata": {},
   "outputs": [],
   "source": [
    "# Load the datasets\n",
    "def get_dataframe(ticker):\n",
    "    FORMAT_FILE = \"{}.csv\"\n",
    "    df = pd.read_csv(DIR_DATA + FORMAT_FILE.format(ticker))\n",
    "    # fill eventual NaN values\n",
    "    df = df.fillna(method = 'ffill').fillna(method = 'bfill')\n",
    "    return df"
   ]
  },
  {
   "attachments": {},
   "cell_type": "markdown",
   "metadata": {},
   "source": [
    "### Return the Daily Return"
   ]
  },
  {
   "cell_type": "code",
   "execution_count": 114,
   "metadata": {},
   "outputs": [],
   "source": [
    "def get_daily_returns(df, col):\n",
    "    \"\"\"Compute the returns of the assets in the dataset.\n",
    "\n",
    "    Args:\n",
    "        df (_type_): dataset with the prices of the assets.\n",
    "    \"\"\"\n",
    "    # Compute the returns as in the paper\n",
    "    # Notice that the first row of the Close_Daily_Return we obtain a NaN and this is\n",
    "    # correct because there is nothing before it\n",
    "    \n",
    "    df[col+\"_Daily_Returns\"] = (df[col].pct_change())*100\n",
    "\n",
    "    # Drop the NaN values\n",
    "    df = df.dropna()\n",
    "\n",
    "    # Plot the Daily Returns\n",
    "    fig,ax=plt.subplots(figsize=(12,6))\n",
    "    ax.spines[['top','right','left','bottom']].set_visible(False)\n",
    "    plt.plot(df['Close_Daily_Returns'], label = 'Daily Returns')\n",
    "    plt.legend(loc='best')\n",
    "    plt.title('Stock Daily Returns Over Time')\n",
    "    plt.show()\n",
    "    \n",
    "    return df"
   ]
  },
  {
   "attachments": {},
   "cell_type": "markdown",
   "metadata": {},
   "source": [
    "### OLS"
   ]
  },
  {
   "attachments": {},
   "cell_type": "markdown",
   "metadata": {},
   "source": [
    "**Ordinary least squares** (OLS) regression is a method that allows us to find a line that best describes the relationship between one or more predictor variables and a response variable.\n",
    "\n",
    "This method allows us to find the following equation:\n",
    "\n",
    "$y = b_0 + b_1x$\n",
    "\n",
    "where:\n",
    "- y: the estimated response value\n",
    "- $b_0$: the intercept of the regression line\n",
    "- $b_1$: the slope of the regression line"
   ]
  },
  {
   "cell_type": "code",
   "execution_count": 115,
   "metadata": {},
   "outputs": [],
   "source": [
    "def compute_ols(data, col1, col2):\n",
    "    x = data[col1]\n",
    "    y = data[col2]\n",
    "    # adding the constant term\n",
    "    x = sm.add_constant(x)\n",
    "    # performing the regression\n",
    "    # and fitting the model\n",
    "    result = sm.OLS(y, x).fit()\n",
    "\n",
    "    # printing the summary table\n",
    "    print(result.summary())"
   ]
  },
  {
   "cell_type": "code",
   "execution_count": 116,
   "metadata": {},
   "outputs": [],
   "source": [
    "def plot_ols(data, col1, col2):\n",
    "    # find line of best fit\n",
    "    a,b = np.polyfit(data[col1], data[col2], 1)\n",
    "    # add points to plot\n",
    "    plt.scatter(data[col1], data[col2], color='purple')\n",
    "    # add line of best fit to plot\n",
    "    plt.plot(data[col1], a*data[col1]+b)\n",
    "    #add fitted regression equation to plot\n",
    "    plt.text(1, 90, 'y = ' + '{:.3f}'.format(b) + ' + {:.3f}'.format(a) + 'x', size=12)\n",
    "\n",
    "    #add axis labels\n",
    "    plt.xlabel('Daily Returns')\n",
    "    plt.ylabel('Volumee')"
   ]
  },
  {
   "attachments": {},
   "cell_type": "markdown",
   "metadata": {},
   "source": [
    "### Main Function"
   ]
  },
  {
   "cell_type": "code",
   "execution_count": 117,
   "metadata": {},
   "outputs": [],
   "source": [
    "def see_ticker_stat(ticker):\n",
    "    df = get_dataframe(ticker)\n",
    "    get_daily_returns(df, \"Close\")\n",
    "    compute_ols(df, \"Volume\", \"Close_Daily_Returns\")\n",
    "    plot_ols(df, \"Volume\", \"Close_Daily_Returns\")"
   ]
  },
  {
   "cell_type": "code",
   "execution_count": 118,
   "metadata": {},
   "outputs": [
    {
     "data": {
      "image/png": "[encoded data removed]",
      "text/plain": [
       "<Figure size 864x432 with 1 Axes>"
      ]
     },
     "metadata": {},
     "output_type": "display_data"
    },
    {
     "name": "stdout",
     "output_type": "stream",
     "text": [
      "                             OLS Regression Results                            \n",
      "===============================================================================\n",
      "Dep. Variable:     Close_Daily_Returns   R-squared:                         nan\n",
      "Model:                             OLS   Adj. R-squared:                    nan\n",
      "Method:                  Least Squares   F-statistic:                       nan\n",
      "Date:                 Fri, 21 Apr 2023   Prob (F-statistic):                nan\n",
      "Time:                         16:24:36   Log-Likelihood:                    nan\n",
      "No. Observations:                 1258   AIC:                               nan\n",
      "Df Residuals:                     1256   BIC:                               nan\n",
      "Df Model:                            1                                         \n",
      "Covariance Type:             nonrobust                                         \n",
      "==============================================================================\n",
      "                 coef    std err          t      P>|t|      [0.025      0.975]\n",
      "------------------------------------------------------------------------------\n",
      "const             nan        nan        nan        nan         nan         nan\n",
      "Volume            nan        nan        nan        nan         nan         nan\n",
      "==============================================================================\n",
      "Omnibus:                          nan   Durbin-Watson:                     nan\n",
      "Prob(Omnibus):                    nan   Jarque-Bera (JB):                  nan\n",
      "Skew:                             nan   Prob(JB):                          nan\n",
      "Kurtosis:                         nan   Cond. No.                     9.43e+06\n",
      "==============================================================================\n",
      "\n",
      "Notes:\n",
      "[1] Standard Errors assume that the covariance matrix of the errors is correctly specified.\n",
      "[2] The condition number is large, 9.43e+06. This might indicate that there are\n",
      "strong multicollinearity or other numerical problems.\n"
     ]
    },
    {
     "name": "stderr",
     "output_type": "stream",
     "text": [
      "/opt/anaconda3/lib/python3.9/site-packages/statsmodels/tsa/tsatools.py:142: FutureWarning: In a future version of pandas all arguments of concat except for the argument 'objs' will be keyword-only\n",
      "  x = pd.concat(x[::order], 1)\n"
     ]
    },
    {
     "ename": "NameError",
     "evalue": "name 'df' is not defined",
     "output_type": "error",
     "traceback": [
      "\u001b[0;31m---------------------------------------------------------------------------\u001b[0m",
      "\u001b[0;31mNameError\u001b[0m                                 Traceback (most recent call last)",
      "\u001b[0;32m/var/folders/ff/xt97zly148d7d9kycf5fxb_00000gn/T/ipykernel_37593/654464803.py\u001b[0m in \u001b[0;36m<module>\u001b[0;34m\u001b[0m\n\u001b[1;32m      1\u001b[0m \u001b[0;31m# AXP\u001b[0m\u001b[0;34m\u001b[0m\u001b[0;34m\u001b[0m\u001b[0m\n\u001b[0;32m----> 2\u001b[0;31m \u001b[0msee_ticker_stat\u001b[0m\u001b[0;34m(\u001b[0m\u001b[0mTICKERS\u001b[0m\u001b[0;34m[\u001b[0m\u001b[0;36m0\u001b[0m\u001b[0;34m]\u001b[0m\u001b[0;34m)\u001b[0m\u001b[0;34m\u001b[0m\u001b[0;34m\u001b[0m\u001b[0m\n\u001b[0m",
      "\u001b[0;32m/var/folders/ff/xt97zly148d7d9kycf5fxb_00000gn/T/ipykernel_37593/1753647204.py\u001b[0m in \u001b[0;36msee_ticker_stat\u001b[0;34m(ticker)\u001b[0m\n\u001b[1;32m      3\u001b[0m     \u001b[0mget_daily_returns\u001b[0m\u001b[0;34m(\u001b[0m\u001b[0mdf\u001b[0m\u001b[0;34m,\u001b[0m \u001b[0;34m\"Close\"\u001b[0m\u001b[0;34m)\u001b[0m\u001b[0;34m\u001b[0m\u001b[0;34m\u001b[0m\u001b[0m\n\u001b[1;32m      4\u001b[0m     \u001b[0mcompute_ols\u001b[0m\u001b[0;34m(\u001b[0m\u001b[0mdf\u001b[0m\u001b[0;34m,\u001b[0m \u001b[0;34m\"Volume\"\u001b[0m\u001b[0;34m,\u001b[0m \u001b[0;34m\"Close_Daily_Returns\"\u001b[0m\u001b[0;34m)\u001b[0m\u001b[0;34m\u001b[0m\u001b[0;34m\u001b[0m\u001b[0m\n\u001b[0;32m----> 5\u001b[0;31m     \u001b[0mplot_ols\u001b[0m\u001b[0;34m(\u001b[0m\u001b[0mdf\u001b[0m\u001b[0;34m,\u001b[0m \u001b[0;34m\"Volume\"\u001b[0m\u001b[0;34m,\u001b[0m \u001b[0;34m\"Close_Daily_Returns\"\u001b[0m\u001b[0;34m)\u001b[0m\u001b[0;34m\u001b[0m\u001b[0;34m\u001b[0m\u001b[0m\n\u001b[0m",
      "\u001b[0;32m/var/folders/ff/xt97zly148d7d9kycf5fxb_00000gn/T/ipykernel_37593/1718691606.py\u001b[0m in \u001b[0;36mplot_ols\u001b[0;34m(data, col1, col2)\u001b[0m\n\u001b[1;32m      1\u001b[0m \u001b[0;32mdef\u001b[0m \u001b[0mplot_ols\u001b[0m\u001b[0;34m(\u001b[0m\u001b[0mdata\u001b[0m\u001b[0;34m,\u001b[0m \u001b[0mcol1\u001b[0m\u001b[0;34m,\u001b[0m \u001b[0mcol2\u001b[0m\u001b[0;34m)\u001b[0m\u001b[0;34m:\u001b[0m\u001b[0;34m\u001b[0m\u001b[0;34m\u001b[0m\u001b[0m\n\u001b[1;32m      2\u001b[0m     \u001b[0;31m# find line of best fit\u001b[0m\u001b[0;34m\u001b[0m\u001b[0;34m\u001b[0m\u001b[0m\n\u001b[0;32m----> 3\u001b[0;31m     \u001b[0ma\u001b[0m\u001b[0;34m,\u001b[0m\u001b[0mb\u001b[0m \u001b[0;34m=\u001b[0m \u001b[0mnp\u001b[0m\u001b[0;34m.\u001b[0m\u001b[0mpolyfit\u001b[0m\u001b[0;34m(\u001b[0m\u001b[0mdf\u001b[0m\u001b[0;34m[\u001b[0m\u001b[0mcol1\u001b[0m\u001b[0;34m]\u001b[0m\u001b[0;34m,\u001b[0m \u001b[0mdf\u001b[0m\u001b[0;34m[\u001b[0m\u001b[0mcol2\u001b[0m\u001b[0;34m]\u001b[0m\u001b[0;34m,\u001b[0m \u001b[0;36m1\u001b[0m\u001b[0;34m)\u001b[0m\u001b[0;34m\u001b[0m\u001b[0;34m\u001b[0m\u001b[0m\n\u001b[0m\u001b[1;32m      4\u001b[0m     \u001b[0;31m# add points to plot\u001b[0m\u001b[0;34m\u001b[0m\u001b[0;34m\u001b[0m\u001b[0m\n\u001b[1;32m      5\u001b[0m     \u001b[0mplt\u001b[0m\u001b[0;34m.\u001b[0m\u001b[0mscatter\u001b[0m\u001b[0;34m(\u001b[0m\u001b[0mdf\u001b[0m\u001b[0;34m[\u001b[0m\u001b[0mcol1\u001b[0m\u001b[0;34m]\u001b[0m\u001b[0;34m,\u001b[0m \u001b[0mdf\u001b[0m\u001b[0;34m[\u001b[0m\u001b[0mcol2\u001b[0m\u001b[0;34m]\u001b[0m\u001b[0;34m,\u001b[0m \u001b[0mcolor\u001b[0m\u001b[0;34m=\u001b[0m\u001b[0;34m'purple'\u001b[0m\u001b[0;34m)\u001b[0m\u001b[0;34m\u001b[0m\u001b[0;34m\u001b[0m\u001b[0m\n",
      "\u001b[0;31mNameError\u001b[0m: name 'df' is not defined"
     ]
    }
   ],
   "source": [
    "# AXP\n",
    "see_ticker_stat(TICKERS[0])"
   ]
  },
  {
   "cell_type": "code",
   "execution_count": null,
   "metadata": {},
   "outputs": [],
   "source": [
    "# NYA\n",
    "see_ticker_stat(TICKERS[1])"
   ]
  }
 ],
 "metadata": {
  "kernelspec": {
   "display_name": "base",
   "language": "python",
   "name": "python3"
  },
  "language_info": {
   "codemirror_mode": {
    "name": "ipython",
    "version": 3
   },
   "file_extension": ".py",
   "mimetype": "text/x-python",
   "name": "python",
   "nbconvert_exporter": "python",
   "pygments_lexer": "ipython3",
   "version": "3.9.7"
  },
  "orig_nbformat": 4
 },
 "nbformat": 4,
 "nbformat_minor": 2
}
